{
  "nbformat": 4,
  "nbformat_minor": 0,
  "metadata": {
    "colab": {
      "provenance": [],
      "authorship_tag": "ABX9TyOjktQuNQg0YTNX7+opP6tz",
      "include_colab_link": true
    },
    "kernelspec": {
      "name": "python3",
      "display_name": "Python 3"
    },
    "language_info": {
      "name": "python"
    }
  },
  "cells": [
    {
      "cell_type": "markdown",
      "metadata": {
        "id": "view-in-github",
        "colab_type": "text"
      },
      "source": [
        "<a href=\"https://colab.research.google.com/github/nsaimeghana/L1/blob/main/digitalclock_py.ipynb\" target=\"_parent\"><img src=\"https://colab.research.google.com/assets/colab-badge.svg\" alt=\"Open In Colab\"/></a>"
      ]
    },
    {
      "cell_type": "code",
      "execution_count": null,
      "metadata": {
        "colab": {
          "base_uri": "https://localhost:8080/"
        },
        "id": "a0ymRT00EM_a",
        "outputId": "001fd4b8-328a-43c3-b054-470b94b47df9"
      },
      "outputs": [
        {
          "output_type": "stream",
          "name": "stdout",
          "text": [
            "2023-06-08 13:12:25"
          ]
        }
      ],
      "source": [
        "import datetime\n",
        "import time\n",
        "\n",
        "def digclock():\n",
        "    while True:\n",
        "        current_time = datetime.datetime.now().strftime(\"%Y-%m-%d %H:%M:%S\")\n",
        "        print(\"\\r\" + current_time, end=\"\")\n",
        "        time.sleep(1)\n",
        "\n",
        "digclock()\n"
      ]
    }
  ]
}